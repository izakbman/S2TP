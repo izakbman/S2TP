{
 "cells": [
  {
   "cell_type": "markdown",
   "metadata": {},
   "source": [
    "# Speech2Text Project Notebook\n"
   ]
  },
  {
   "cell_type": "markdown",
   "metadata": {},
   "source": [
    "### Run data_utility.py to collect librosa validation dataset from huggingface and display the first example from the data loader\n",
    "**Args** \n",
    "\n",
    " * --talapas: save librispeech validation split to librispeech_cache dir \n",
    " \n",
    " * --display: display transcription, raw wavefom, mel spectogram and playable audio"
   ]
  },
  {
   "cell_type": "markdown",
   "metadata": {
    "scrolled": true
   },
   "source": [
    "run data_utility.py --talapas --display"
   ]
  },
  {
   "cell_type": "markdown",
   "metadata": {},
   "source": [
    "## Model.py\n",
    "**Args**\n",
    "* --mymodel: run training and evaluation code for simpleCTC Model, model weights saved to evaluation dir\n",
    "* --wav2vec: evaluate training data with wav2vec model (meta)\n",
    "* adding both args will compare the two models\n",
    "* adding --eval will only evaluate simpleCTC model and save evaluation plots to evaluation dir\n",
    "  * if there are no model weights saved user will be prompted to train the model\n",
    " \n",
    "*please note... my model is currently suffering from vaninishing/exploding gradients resulting in nan loss*\n",
    "\n",
    "*--eval will evaluate based on saved (nonsensical weights) code may not work as expected*"
   ]
  },
  {
   "cell_type": "code",
   "execution_count": 1,
   "metadata": {},
   "outputs": [
    {
     "name": "stdout",
     "output_type": "stream",
     "text": [
      "Loading saved weights for SimpleCTCModel from evaluation/simple_ctc_model.pth\n"
     ]
    },
    {
     "name": "stderr",
     "output_type": "stream",
     "text": [
      "/gpfs/home/iboardma/projdir/S2TP/model.py:144: FutureWarning: You are using `torch.load` with `weights_only=False` (the current default value), which uses the default pickle module implicitly. It is possible to construct malicious pickle data which will execute arbitrary code during unpickling (See https://github.com/pytorch/pytorch/blob/main/SECURITY.md#untrusted-models for more details). In a future release, the default value for `weights_only` will be flipped to `True`. This limits the functions that could be executed during unpickling. Arbitrary objects will no longer be allowed to be loaded via this mode unless they are explicitly allowlisted by the user via `torch.serialization.add_safe_globals`. We recommend you start setting `weights_only=True` for any use case where you don't have full control of the loaded file. Please open an issue on GitHub for any issues related to this experimental feature.\n",
      "  model.load_state_dict(torch.load(model_weights_path))\n"
     ]
    },
    {
     "name": "stdout",
     "output_type": "stream",
     "text": [
      "\n",
      "SimpleCTCModel - CER: 1.0000, WER: 1.0000\n"
     ]
    }
   ],
   "source": [
    "run model.py --mymodel --eval"
   ]
  },
  {
   "cell_type": "markdown",
   "metadata": {},
   "source": [
    "### Real vs expected transcriptions for simpleCTCmodel"
   ]
  },
  {
   "cell_type": "code",
   "execution_count": 4,
   "metadata": {
    "scrolled": true
   },
   "outputs": [
    {
     "name": "stdout",
     "output_type": "stream",
     "text": [
      "First actual transcription (my model): \n",
      "IN EITHER OF THESE RESTAURANTS YOU WIL BE SERVED WITH THE BEST THE MARKET AFORDS COKED THE RIGHT WAY\n",
      "\n",
      "First predicted transcription (my model): \n",
      "Y'XY'XY'XY'XY'XYX'XY'XYXY'XKXYX'XY'XYX'KXYXYXKXY'XYL'XKXYXYX'XYXK'XYLX'XY'XYLNXKXYX'XYX'XY'XKXY'X'XY'X'XYX'XKXYX'X'X'XYX'XKXYX'XYX'KXYX'X'XYX'XY'XY'XYX'KXLX'KXY'XYX'XYX'XYX'XY'KXYX'XY'XYX'XYX'XY'KX'YX'XYX'XY'XY'XYX'XYX'XY'KXY'XY'XY'KXY'XYX'XYX'XY'X'XY'XYX'XYX'XY'XYX'XY'KXY'XYX'XYX'XY'XYX'XKXYX'XY'YX'XKYX'XY'X'XY'XY'X'XY'XY'X'XY'XYX'X'XY'XYX'XY'XY'X'XY'XYXYXYXYX'XY'XYXY'XYX'XY'XYX'XYXY'XY'XYXY'KXY'XYX'XY'XYX'XY'XYXYX'XY'XYX'XY'XYXY'XY'XY'XY'XY'X'XY'XY'XY'XY'XY'XY'XY'XY'XY'XY'XY'XY'XY'XYX'XY'XY'XY'XYX'XYXYX'XY'XYXYX'XY'XY'XYXY'XY'XYXY'XYXY'XYXYXYXY'Y'YXYXYXYX'XYXY'XYXYX'XY'XY'XYX'XY'XYXY'XY'XY'XY'XY'XY'XY'XY'XYX'XY'XY'XYX'XY'X'XY'XYXY'XYX'XY'XY'Y'YXY'YX'XYXY'XYXY'XY'XYX'XYXYXYXYXY'XYXYXYXYXYXYXYX'X'YXYXYXY'XYX'XY'X'XY'XYXYXYXY'XYXY'XY'XY'XYX'XYXY'XY'XY'XY'XY'KX'Y'X'Y'XY'X'XY'X'XY'XY'XY'XY'XY'KXKYX'X'XY'XY'XY'X'XY'XY'X'YX'XY'XY'XYX'XY'XYXY'XY'XY'XY'XY'X'Y'XYXY'XYX'XY'XY'XYXY'XYXY'XY'XY'XYX'XYXYXY'XY'YXY'YXY'XY'YXYXYXYXYXYXYX'XYX'XYXYXYXYXU'XUY'XYUYX'YXUYXYXUYXUYXUY'XY'XYXYXYX'XUYXY'XY'XYXYX'XY'Y'XYXYXYXYXY'YXYXYXYXY'YXYX'XYXYXYXY'YXYXYXYXYXYXYXYXYXYXY'X'XY'XY'XY'X'Y'X'XY'XY'XY'X'Y'XY'XY'XY'XYX'XY'XY'XY'X'X'YX'XY'XY'XY'XYX'XYXYX'XY'XY'XY'XY'XY'XY'XYXYX'XY'XY'XY'XY'XY'XY'XY'XYXY'XY'Y'XY'Y'XY'XY'YXYXY'XY'XYXYXY'XY'XY'XY'XY'XY'XYX'XY'XYX'XYXYXY'XYXY'XYXY'XYXYXY'XYXY'YXYXYXYXYXYXYX'YXYXYXYX'XYXYXYXYXY'YXYXYXYXYXUYX'XYXYXYXY'Y'YXYXYXYXYXYXYXY'XYXYXYXYXYXYXYXY'YXY'YXYXYXYXY'X'XYX'XYX'XYX'XY'X'XYX'XYX'X'Y'XYX'XY'XY'XY'XY'XY'XY'XYXY'XYXYXYXYXYXY'XYXYXYXYXY'XY'XY'XY'XY'XY'XY'XY'XY'XY'XYXY'XY'XY'XY'XY'XY'XY'XY'XY'XY'XY'XY'XY'XY'XY'XY'XY'XY'XYXYXYXY'XY'XY'X'XY'XY'XY'XYXY'XY'XY'XY'XYXY'XYXYXYXY'XYXYXYXY'XY'XYX'XYXYX'XYXY'YXY'XYXYXY'Y'XYXYXYXYXY'YX'Y'XYXYXY'YXYX'XY'XYXY'X'XYXUY'OYXY'Y'XUYX'X'XYXYXYU'YXUXYX'XYXY'Y'XYXYUXYXY'XY'XYX'XUYXYUYXUY'X'YUXYXYXY'XUY'XUYX'XY'YXY'YXYXYXYXY'XUYXYXYXYXYXYXYXYXY'Y'XYX'XYXYXY'XUY'Y'XUXYXYXYXYX'XYXYU'YXYX'YXUY'XYXYXYXYXYXUYX'XYXU'YX'XYXYXUXY'Y'XYU'YXYX'YXYXY'YXYXY'XYXY'Y'XY'YXY'Y'Y'XYXUYXYX'XYXYXYXYXYXYX'X'XY'X'XY'XYXY'XYX'XYX'XY'XY'XY'XYX'X'XY'XY'XY'XY'X'XY'XY'XYX'XY'XKY'XY'XYXY'X'XY'XY'XYX'XY'X'XY'XY'XY'XY'X'Y'XY'XY'XY'XY'XY'Y'XYX'X'Y'XY'Y'XY'X'Y'XY'XY'XY'X'Y'XY'XY'XY'X'XY'XYXY'X'XY'X'Y'XYX'X'X'XY'XY'XYXY'XYXYXYXYXYXYXYXYXYXYXYXYXYXY'XY'XY'XY'XY'XY'XY'XY'X'XY'XY'XY'XY'XYXYXYXYXYXYXY'XYX'XY'XYXYXYXYXYXYXYX'X'XYXY'X'XYXKXYX'XYX'XY'XYX'XY'XY'XY'XYX'XY'XY'XY'XY'XY'XY'XYX'XY'XY'XYX'XY'XY'XY'XYX'XY'XY'XY'XY'XY'XY'XY'XYX'XY'XY'XY'XYXY'XYXYXY'YXYXYXYX'XY'YXYXYXY'XYXY'X'Y'XU'XYX'XUYX'XYX'XYXYX'XYXYXYX'XYX'YXYXYXYXY'YXYXYXYXUY'XY'YXYXY'XY'YXYXYXY'XYXY'Y'YXY'XYXY'XYXYXY'YXYXY'XYXYXYXY'XYXY'XY'XY'XY'XYXYXYXYXYXY'XYX'XYXY'XY'XY'XY'XY'XYXY'XY'XY'XYXY'XY'XY'XY'XY'XY'XY'XY'XY'XY'XY'X'XY'XY'XYXY'XY'XY'XY'XYXY'XY'XY'XY'XY'XYX'XY'XY'XY'XY'XY'XYX'XY'XY'XY'XY'XY'XY'XY'X'XY'X'Y'XYX'X'XYX'YXY'XYXYXY'XYXY'X'XY'XY'XY'XY'XY'XYXYXY'XY'XYXYX'XY'XY'XY'XYXY'XY'XYX'XYXYXYXYXYXYXYXYXYXYXYXYXYXYXYXYXYXYXYXYXYXYXYXYXY'XY'XYXYXY'XY'XY'XY'XYXYXY'XYXY'XY'XYXYXY'XYXY'XY'XY'XYXY'XY'Y'XYXY'XY'XY'XY'XY'XY'XYXY'XY'XY'XY'XY'XY'XY'XY'X'Y'Y'XYXY'X'XY'XY'XY'Y'XY'YX'XY'X'Y'XY'XYXY'YX'XYX'YX'XYXYXYX'X'YXY'X'XY'XYXYXYXYXYXYXYXYXYXYXY'XYXYXYXYXYXYXY'YXYXYX'XYXYXYXYXYXYXYXY'XYXYX'XYXY'XY'XY'X'YXYX'XY'Y'YXYXY'YXYXY'YXYXUYXY'YXYXUY'XYXYU'YXY'XYXY'X'XYXY'YXYX'YXYXYXYXYXYXYXY'YXYXYXYXYXYXY'Y'XY'XY'XYXY'X'XY'X'XY'X'XY'XYX'X'XYX'X'YX'XY'X'XY'XY'XYX'XY'XY'XYX'XYX'XY'XY'XYX'XYX'XYX'XY'XY'XYX'XY'X'XY'X'XY'X'XY'X'XYXYXYXYXYXYXYXYXY'XYXYXY'XY'XY'XY'XY'XY'XY'XYX'XY'XY'XY'XY'XYX'XY'XY'XY'XY'XY'XY'X'XY'XY'XY'XY'XY'XY'XYXY'XYXYXYX'XYXY'XYXY'XYXYXYXYXYXYXYXYXYXYX'XY'XY'XYXY'X'XY'XY'XY'XY'XYXKX'XY'XY'XY'XYX'X'XYX'XY'XY'XY'XY'X'X'XYX'XYX'XY'XYX'XY'X'X'X'XY'KY'XY'X'Y'XY'X'X'XYX'XYX'XY'XY'XY'XYX'XY'XYXY'XY'XYXYX'XY'XYXYXYXYXYXY'XYXY'X'XYX'Y'YXYXYXYXY'XYXY'XY'XY'XY'Y'XY'XY'XY'XY'XYXY'XY'XYX'XY'XY'XY'XYXYXY'XY'XYX'XY'XY'XY'XYXYXY'XY'XY'XYX'XYXYX'XY'XYXYXYXYXYX'XYX'XYX'XYX'XYXYXYXYXYX'XY'XY'XY'XYXYXY'X'XY'XYX'XYXYXYXY'X'XYX'XYX'XY'X'XYX'XY'XYXYXYXYXYXYXYXYXY\n"
     ]
    }
   ],
   "source": [
    "print(f\"First actual transcription (my model): \\n{all_actual_transcriptions_mymodel[0]}\\n\")\n",
    "print(f\"First predicted transcription (my model): \\n{all_predicted_transcriptions_mymodel[0]}\")"
   ]
  }
 ],
 "metadata": {
  "kernelspec": {
   "display_name": "Python 3 (ipykernel)",
   "language": "python",
   "name": "python3"
  },
  "language_info": {
   "codemirror_mode": {
    "name": "ipython",
    "version": 3
   },
   "file_extension": ".py",
   "mimetype": "text/x-python",
   "name": "python",
   "nbconvert_exporter": "python",
   "pygments_lexer": "ipython3",
   "version": "3.8.16"
  }
 },
 "nbformat": 4,
 "nbformat_minor": 4
}
